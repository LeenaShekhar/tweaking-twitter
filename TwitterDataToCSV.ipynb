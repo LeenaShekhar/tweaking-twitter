{
 "cells": [
  {
   "cell_type": "code",
   "execution_count": 1,
   "metadata": {
    "collapsed": true
   },
   "outputs": [],
   "source": [
    "import unicodecsv as csv\n",
    "import tweepy\n",
    "import datetime\n",
    "from tweepy import OAuthHandler"
   ]
  },
  {
   "cell_type": "code",
   "execution_count": 30,
   "metadata": {
    "collapsed": true
   },
   "outputs": [],
   "source": [
    "consumer_key = ''\n",
    "consumer_secret = ''\n",
    "access_token = ''\n",
    "access_secret = ''\n",
    "\n",
    "auth = OAuthHandler(consumer_key, consumer_secret)\n",
    "auth.set_access_token(access_token, access_secret)\n",
    "api = tweepy.API(auth)"
   ]
  },
  {
   "cell_type": "code",
   "execution_count": 31,
   "metadata": {
    "collapsed": false
   },
   "outputs": [],
   "source": [
    "username = 'realDonaldTrump'\n",
    "startDate = datetime.datetime(2016, 8, 1, 0, 0, 0)\n",
    "endDate =   datetime.datetime(2016, 11, 1, 0, 0, 0)\n",
    "\n",
    "tweets = []\n",
    "tmpTweets = api.user_timeline(username)\n",
    "for tweet in tmpTweets:\n",
    "    if tweet.created_at < endDate and tweet.created_at > startDate:\n",
    "        tweets.append(tweet)\n",
    "\n",
    "while (tmpTweets[-1].created_at > startDate):\n",
    "    #print(\"Last Tweet @\", tmpTweets[-1].created_at, \" - fetching some more\")\n",
    "    tmpTweets = api.user_timeline(username, max_id = tmpTweets[-1].id)\n",
    "    for tweet in tmpTweets:\n",
    "        if tweet.created_at < endDate and tweet.created_at > startDate:\n",
    "            tweets.append(tweet)\n",
    "\n",
    "try:\n",
    "    outtweets = [[tweet.id_str, tweet.created_at, tweet.text, tweet.source, tweet.retweeted, tweet.possibly_sensitive] for tweet in tweets]\n",
    "except AttributeError:\n",
    "    outtweets = [[tweet.id_str, tweet.created_at, tweet.text, tweet.source, tweet.retweeted, ''] for tweet in tweets]\n",
    "\n",
    "with open('trump_tweets.csv', 'wb') as f:\n",
    "    writer = csv.writer(f)\n",
    "    writer.writerow([\"id\",\"created_at\",\"text\", \"source\", \"retweeted\", \"link\"])\n",
    "    writer.writerows(outtweets)"
   ]
  },
  {
   "cell_type": "code",
   "execution_count": 32,
   "metadata": {
    "collapsed": false
   },
   "outputs": [
    {
     "data": {
      "text/plain": [
       "Status(in_reply_to_status_id=None, created_at=datetime.datetime(2016, 10, 31, 20, 49, 56), id_str='793193310219272198', geo=None, in_reply_to_user_id_str=None, place=Place(country_code='US', attributes={}, id='59381e983a8a5770', contained_within=[], url='https://api.twitter.com/1.1/geo/id/59381e983a8a5770.json', full_name='Warren, MI', place_type='city', name='Warren', country='United States', bounding_box=BoundingBox(type='Polygon', coordinates=[[[-83.0868811, 42.4472888], [-82.967096, 42.4472888], [-82.967096, 42.538403], [-83.0868811, 42.538403]]], _api=<tweepy.api.API object at 0x7fd909470710>), _api=<tweepy.api.API object at 0x7fd909470710>), possibly_sensitive=False, coordinates=None, source='Twitter for iPhone', is_quote_status=False, retweeted=False, contributors=None, favorite_count=24636, retweet_count=8590, truncated=False, in_reply_to_status_id_str=None, in_reply_to_screen_name=None, user=User(followers_count=18745081, id_str='25073877', favourites_count=46, created_at=datetime.datetime(2009, 3, 18, 13, 46, 38), translator_type='regular', name='Donald J. Trump', profile_use_background_image=True, profile_background_image_url_https='https://pbs.twimg.com/profile_background_images/530021613/trump_scotland__43_of_70_cc.jpg', statuses_count=34234, profile_background_color='6D5C18', screen_name='realDonaldTrump', location='New York, NY', profile_image_url_https='https://pbs.twimg.com/profile_images/1980294624/DJT_Headshot_V2_normal.jpg', listed_count=51309, description='President-elect of the United States', profile_banner_url='https://pbs.twimg.com/profile_banners/25073877/1479776952', profile_text_color='333333', follow_request_sent=False, profile_image_url='http://pbs.twimg.com/profile_images/1980294624/DJT_Headshot_V2_normal.jpg', profile_link_color='0D5B73', has_extended_profile=False, is_translator=False, _json={'followers_count': 18745081, 'id_str': '25073877', 'profile_sidebar_fill_color': 'C5CEC0', 'favourites_count': 46, 'protected': False, 'profile_text_color': '333333', 'has_extended_profile': False, 'notifications': False, 'name': 'Donald J. Trump', 'profile_use_background_image': True, 'profile_background_image_url_https': 'https://pbs.twimg.com/profile_background_images/530021613/trump_scotland__43_of_70_cc.jpg', 'statuses_count': 34234, 'verified': True, 'screen_name': 'realDonaldTrump', 'profile_background_color': '6D5C18', 'location': 'New York, NY', 'id': 25073877, 'profile_link_color': '0D5B73', 'url': 'https://t.co/mZB2hymxC9', 'listed_count': 51309, 'created_at': 'Wed Mar 18 13:46:38 +0000 2009', 'profile_banner_url': 'https://pbs.twimg.com/profile_banners/25073877/1479776952', 'is_translation_enabled': True, 'description': 'President-elect of the United States', 'contributors_enabled': False, 'profile_image_url': 'http://pbs.twimg.com/profile_images/1980294624/DJT_Headshot_V2_normal.jpg', 'friends_count': 42, 'profile_sidebar_border_color': 'BDDCAD', 'is_translator': False, 'utc_offset': -18000, 'follow_request_sent': False, 'following': False, 'entities': {'description': {'urls': []}, 'url': {'urls': [{'display_url': 'DonaldJTrump.com', 'expanded_url': 'http://www.DonaldJTrump.com', 'indices': [0, 23], 'url': 'https://t.co/mZB2hymxC9'}]}}, 'default_profile': False, 'lang': 'en', 'geo_enabled': True, 'time_zone': 'Eastern Time (US & Canada)', 'default_profile_image': False, 'translator_type': 'regular', 'profile_background_image_url': 'http://pbs.twimg.com/profile_background_images/530021613/trump_scotland__43_of_70_cc.jpg', 'profile_background_tile': True, 'profile_image_url_https': 'https://pbs.twimg.com/profile_images/1980294624/DJT_Headshot_V2_normal.jpg'}, following=False, default_profile=False, geo_enabled=True, contributors_enabled=False, profile_background_image_url='http://pbs.twimg.com/profile_background_images/530021613/trump_scotland__43_of_70_cc.jpg', profile_background_tile=True, protected=False, notifications=False, profile_sidebar_fill_color='C5CEC0', friends_count=42, verified=True, id=25073877, url='https://t.co/mZB2hymxC9', is_translation_enabled=True, _api=<tweepy.api.API object at 0x7fd909470710>, profile_sidebar_border_color='BDDCAD', utc_offset=-18000, entities={'description': {'urls': []}, 'url': {'urls': [{'display_url': 'DonaldJTrump.com', 'expanded_url': 'http://www.DonaldJTrump.com', 'indices': [0, 23], 'url': 'https://t.co/mZB2hymxC9'}]}}, default_profile_image=False, lang='en', time_zone='Eastern Time (US & Canada)'), favorited=False, author=User(followers_count=18745081, id_str='25073877', favourites_count=46, created_at=datetime.datetime(2009, 3, 18, 13, 46, 38), translator_type='regular', name='Donald J. Trump', profile_use_background_image=True, profile_background_image_url_https='https://pbs.twimg.com/profile_background_images/530021613/trump_scotland__43_of_70_cc.jpg', statuses_count=34234, profile_background_color='6D5C18', screen_name='realDonaldTrump', location='New York, NY', profile_image_url_https='https://pbs.twimg.com/profile_images/1980294624/DJT_Headshot_V2_normal.jpg', listed_count=51309, description='President-elect of the United States', profile_banner_url='https://pbs.twimg.com/profile_banners/25073877/1479776952', profile_text_color='333333', follow_request_sent=False, profile_image_url='http://pbs.twimg.com/profile_images/1980294624/DJT_Headshot_V2_normal.jpg', profile_link_color='0D5B73', has_extended_profile=False, is_translator=False, _json={'followers_count': 18745081, 'id_str': '25073877', 'profile_sidebar_fill_color': 'C5CEC0', 'favourites_count': 46, 'protected': False, 'profile_text_color': '333333', 'has_extended_profile': False, 'notifications': False, 'name': 'Donald J. Trump', 'profile_use_background_image': True, 'profile_background_image_url_https': 'https://pbs.twimg.com/profile_background_images/530021613/trump_scotland__43_of_70_cc.jpg', 'statuses_count': 34234, 'verified': True, 'screen_name': 'realDonaldTrump', 'profile_background_color': '6D5C18', 'location': 'New York, NY', 'id': 25073877, 'profile_link_color': '0D5B73', 'url': 'https://t.co/mZB2hymxC9', 'listed_count': 51309, 'created_at': 'Wed Mar 18 13:46:38 +0000 2009', 'profile_banner_url': 'https://pbs.twimg.com/profile_banners/25073877/1479776952', 'is_translation_enabled': True, 'description': 'President-elect of the United States', 'contributors_enabled': False, 'profile_image_url': 'http://pbs.twimg.com/profile_images/1980294624/DJT_Headshot_V2_normal.jpg', 'friends_count': 42, 'profile_sidebar_border_color': 'BDDCAD', 'is_translator': False, 'utc_offset': -18000, 'follow_request_sent': False, 'following': False, 'entities': {'description': {'urls': []}, 'url': {'urls': [{'display_url': 'DonaldJTrump.com', 'expanded_url': 'http://www.DonaldJTrump.com', 'indices': [0, 23], 'url': 'https://t.co/mZB2hymxC9'}]}}, 'default_profile': False, 'lang': 'en', 'geo_enabled': True, 'time_zone': 'Eastern Time (US & Canada)', 'default_profile_image': False, 'translator_type': 'regular', 'profile_background_image_url': 'http://pbs.twimg.com/profile_background_images/530021613/trump_scotland__43_of_70_cc.jpg', 'profile_background_tile': True, 'profile_image_url_https': 'https://pbs.twimg.com/profile_images/1980294624/DJT_Headshot_V2_normal.jpg'}, following=False, default_profile=False, geo_enabled=True, contributors_enabled=False, profile_background_image_url='http://pbs.twimg.com/profile_background_images/530021613/trump_scotland__43_of_70_cc.jpg', profile_background_tile=True, protected=False, notifications=False, profile_sidebar_fill_color='C5CEC0', friends_count=42, verified=True, id=25073877, url='https://t.co/mZB2hymxC9', is_translation_enabled=True, _api=<tweepy.api.API object at 0x7fd909470710>, profile_sidebar_border_color='BDDCAD', utc_offset=-18000, entities={'description': {'urls': []}, 'url': {'urls': [{'display_url': 'DonaldJTrump.com', 'expanded_url': 'http://www.DonaldJTrump.com', 'indices': [0, 23], 'url': 'https://t.co/mZB2hymxC9'}]}}, default_profile_image=False, lang='en', time_zone='Eastern Time (US & Canada)'), source_url='http://twitter.com/download/iphone', in_reply_to_user_id=None, _json={'created_at': 'Mon Oct 31 20:49:56 +0000 2016', 'id_str': '793193310219272198', 'geo': None, 'in_reply_to_user_id_str': None, 'place': {'country_code': 'US', 'bounding_box': {'type': 'Polygon', 'coordinates': [[[-83.0868811, 42.4472888], [-82.967096, 42.4472888], [-82.967096, 42.538403], [-83.0868811, 42.538403]]]}, 'id': '59381e983a8a5770', 'contained_within': [], 'url': 'https://api.twitter.com/1.1/geo/id/59381e983a8a5770.json', 'country': 'United States', 'name': 'Warren', 'place_type': 'city', 'full_name': 'Warren, MI', 'attributes': {}}, 'possibly_sensitive': False, 'coordinates': None, 'source': '<a href=\"http://twitter.com/download/iphone\" rel=\"nofollow\">Twitter for iPhone</a>', 'is_quote_status': False, 'in_reply_to_user_id': None, 'contributors': None, 'favorite_count': 24636, 'retweet_count': 8590, 'truncated': False, 'in_reply_to_status_id_str': None, 'in_reply_to_screen_name': None, 'retweeted': False, 'user': {'followers_count': 18745081, 'id_str': '25073877', 'profile_sidebar_fill_color': 'C5CEC0', 'favourites_count': 46, 'protected': False, 'profile_text_color': '333333', 'has_extended_profile': False, 'notifications': False, 'name': 'Donald J. Trump', 'profile_use_background_image': True, 'profile_background_image_url_https': 'https://pbs.twimg.com/profile_background_images/530021613/trump_scotland__43_of_70_cc.jpg', 'statuses_count': 34234, 'verified': True, 'screen_name': 'realDonaldTrump', 'profile_background_color': '6D5C18', 'location': 'New York, NY', 'id': 25073877, 'profile_link_color': '0D5B73', 'url': 'https://t.co/mZB2hymxC9', 'listed_count': 51309, 'created_at': 'Wed Mar 18 13:46:38 +0000 2009', 'profile_banner_url': 'https://pbs.twimg.com/profile_banners/25073877/1479776952', 'is_translation_enabled': True, 'description': 'President-elect of the United States', 'contributors_enabled': False, 'profile_image_url': 'http://pbs.twimg.com/profile_images/1980294624/DJT_Headshot_V2_normal.jpg', 'friends_count': 42, 'profile_sidebar_border_color': 'BDDCAD', 'is_translator': False, 'utc_offset': -18000, 'follow_request_sent': False, 'following': False, 'entities': {'description': {'urls': []}, 'url': {'urls': [{'display_url': 'DonaldJTrump.com', 'expanded_url': 'http://www.DonaldJTrump.com', 'indices': [0, 23], 'url': 'https://t.co/mZB2hymxC9'}]}}, 'default_profile': False, 'lang': 'en', 'geo_enabled': True, 'time_zone': 'Eastern Time (US & Canada)', 'default_profile_image': False, 'translator_type': 'regular', 'profile_background_image_url': 'http://pbs.twimg.com/profile_background_images/530021613/trump_scotland__43_of_70_cc.jpg', 'profile_background_tile': True, 'profile_image_url_https': 'https://pbs.twimg.com/profile_images/1980294624/DJT_Headshot_V2_normal.jpg'}, 'in_reply_to_status_id': None, 'entities': {'urls': [{'display_url': 'facebook.com/DonaldTrump/vi…', 'expanded_url': 'https://www.facebook.com/DonaldTrump/videos/10158027399210725/', 'indices': [106, 129], 'url': 'https://t.co/pjXELwc5E1'}], 'user_mentions': [], 'hashtags': [], 'symbols': []}, 'text': 'Wow! I hear you Warren, Michigan. Streaming live - join us America. It is time to DRAIN THE SWAMP!\\nWatch: https://t.co/pjXELwc5E1', 'lang': 'en', 'favorited': False, 'id': 793193310219272198}, entities={'urls': [{'display_url': 'facebook.com/DonaldTrump/vi…', 'expanded_url': 'https://www.facebook.com/DonaldTrump/videos/10158027399210725/', 'indices': [106, 129], 'url': 'https://t.co/pjXELwc5E1'}], 'user_mentions': [], 'hashtags': [], 'symbols': []}, text='Wow! I hear you Warren, Michigan. Streaming live - join us America. It is time to DRAIN THE SWAMP!\\nWatch: https://t.co/pjXELwc5E1', lang='en', _api=<tweepy.api.API object at 0x7fd909470710>, id=793193310219272198)"
      ]
     },
     "execution_count": 32,
     "metadata": {},
     "output_type": "execute_result"
    }
   ],
   "source": [
    "tweets[0]"
   ]
  },
  {
   "cell_type": "code",
   "execution_count": null,
   "metadata": {
    "collapsed": true
   },
   "outputs": [],
   "source": []
  }
 ],
 "metadata": {
  "anaconda-cloud": {},
  "kernelspec": {
   "display_name": "Python [conda root]",
   "language": "python",
   "name": "conda-root-py"
  },
  "language_info": {
   "codemirror_mode": {
    "name": "ipython",
    "version": 3
   },
   "file_extension": ".py",
   "mimetype": "text/x-python",
   "name": "python",
   "nbconvert_exporter": "python",
   "pygments_lexer": "ipython3",
   "version": "3.5.2"
  }
 },
 "nbformat": 4,
 "nbformat_minor": 1
}
